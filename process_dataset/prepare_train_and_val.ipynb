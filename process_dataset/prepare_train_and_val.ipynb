{
 "cells": [
  {
   "cell_type": "markdown",
   "metadata": {},
   "source": [
    "# Randomly divide the train and val dataset"
   ]
  },
  {
   "cell_type": "code",
   "execution_count": 1,
   "metadata": {},
   "outputs": [],
   "source": [
    "import os.path as osp\n",
    "import os\n",
    "import random"
   ]
  },
  {
   "cell_type": "code",
   "execution_count": 2,
   "metadata": {},
   "outputs": [],
   "source": [
    "fake_img_list = os.listdir('../data/kuzushiji_otsu_mask/')\n",
    "real_img_list = os.listdir('../data/hanazono/')"
   ]
  },
  {
   "cell_type": "code",
   "execution_count": 12,
   "metadata": {},
   "outputs": [
    {
     "data": {
      "text/plain": [
       "['U+5BB9_hnsd006_036_C0053.png',\n",
       " 'U+554F_200021660_00038_1_C0012.png',\n",
       " 'U+73B2_200014740_00081_2_C0182.png',\n",
       " 'U+4EA4_200021644_00042_2_C0011.png',\n",
       " 'U+86C4_brsk002_051_C0068.png']"
      ]
     },
     "execution_count": 12,
     "metadata": {},
     "output_type": "execute_result"
    }
   ],
   "source": [
    "fake_img_list[:5]"
   ]
  },
  {
   "cell_type": "code",
   "execution_count": 13,
   "metadata": {},
   "outputs": [],
   "source": [
    "random.shuffle(fake_img_list)\n",
    "random.shuffle(real_img_list)"
   ]
  },
  {
   "cell_type": "code",
   "execution_count": 14,
   "metadata": {},
   "outputs": [
    {
     "data": {
      "text/plain": [
       "['U+8469_100249537_00012_2_C0030.png',\n",
       " 'U+9AF7_200015779_00134_1_C0004.png',\n",
       " 'U+90AA_hnsd009_031_C0079.png',\n",
       " 'U+606F_200003076_00157_1_C0089.png',\n",
       " 'U+73A9_200008003_00010_1_C0030.png']"
      ]
     },
     "execution_count": 14,
     "metadata": {},
     "output_type": "execute_result"
    }
   ],
   "source": [
    "fake_img_list[:5]"
   ]
  },
  {
   "cell_type": "code",
   "execution_count": 15,
   "metadata": {},
   "outputs": [
    {
     "data": {
      "text/plain": [
       "(4328, 4328)"
      ]
     },
     "execution_count": 15,
     "metadata": {},
     "output_type": "execute_result"
    }
   ],
   "source": [
    "len(fake_img_list), len(real_img_list)"
   ]
  },
  {
   "cell_type": "code",
   "execution_count": 4,
   "metadata": {},
   "outputs": [],
   "source": [
    "train_fake_img_list = fake_img_list[:int(len(fake_img_list)*0.8)]\n",
    "train_real_img_list = real_img_list[:int(len(real_img_list)*0.8)]\n",
    "val_fake_img_list = fake_img_list[int(len(fake_img_list)*0.8):]\n",
    "val_real_img_list = real_img_list[int(len(real_img_list)*0.8):]"
   ]
  },
  {
   "cell_type": "code",
   "execution_count": 17,
   "metadata": {},
   "outputs": [
    {
     "data": {
      "text/plain": [
       "(3462, 3462, 866, 866)"
      ]
     },
     "execution_count": 17,
     "metadata": {},
     "output_type": "execute_result"
    }
   ],
   "source": [
    "len(train_fake_img_list), len(train_real_img_list), len(val_fake_img_list), len(val_real_img_list)"
   ]
  },
  {
   "cell_type": "code",
   "execution_count": 5,
   "metadata": {},
   "outputs": [],
   "source": [
    "train_annotation = {}\n",
    "val_annotation = {}\n",
    "\n",
    "for train_fake_img in train_fake_img_list:\n",
    "    train_annotation[\"kuzushiji_otsu_mask/\"+train_fake_img] = 0\n",
    "for train_real_img in train_real_img_list:\n",
    "    train_annotation[\"hanazono/\"+train_real_img] = 1\n",
    "\n",
    "for val_fake_img in val_fake_img_list:\n",
    "    val_annotation[\"kuzushiji_otsu_mask/\"+val_fake_img] = 0\n",
    "for val_real_img in val_real_img_list:\n",
    "    val_annotation[\"hanazono/\"+val_real_img] = 1"
   ]
  },
  {
   "cell_type": "code",
   "execution_count": 7,
   "metadata": {},
   "outputs": [],
   "source": [
    "import json\n",
    "\n",
    "with open(\"../data/train_anno.json\", \"w\") as f:\n",
    "    json.dump(train_annotation, f, indent=4)\n",
    "\n",
    "with open(\"../data/val_anno.json\", \"w\") as f:\n",
    "    json.dump(val_annotation, f, indent=4)"
   ]
  },
  {
   "cell_type": "code",
   "execution_count": null,
   "metadata": {},
   "outputs": [],
   "source": []
  }
 ],
 "metadata": {
  "kernelspec": {
   "display_name": "word",
   "language": "python",
   "name": "python3"
  },
  "language_info": {
   "codemirror_mode": {
    "name": "ipython",
    "version": 3
   },
   "file_extension": ".py",
   "mimetype": "text/x-python",
   "name": "python",
   "nbconvert_exporter": "python",
   "pygments_lexer": "ipython3",
   "version": "3.8.15"
  },
  "orig_nbformat": 4
 },
 "nbformat": 4,
 "nbformat_minor": 2
}
